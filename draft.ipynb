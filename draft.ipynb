{
 "cells": [
  {
   "cell_type": "code",
   "execution_count": null,
   "metadata": {},
   "outputs": [],
   "source": [
    "south_america_dataframe = forest_dataframe.loc[(forest_dataframe[\"entity\"] == \"Brazil\") | (forest_dataframe[\"entity\"] == \"Colombia\") | \\\n",
    " (forest_dataframe[\"entity\"] == \"Argentina\") | (forest_dataframe[\"entity\"] == \"Cuba\") | (forest_dataframe[\"entity\"] == \"Ecuador\") | \\\n",
    " (forest_dataframe[\"entity\"] == \"Peru\") | (forest_dataframe[\"entity\"] == \"Uruguay\") | (forest_dataframe[\"entity\"] == \"Venezuela\") | \\\n",
    "  (forest_dataframe[\"entity\"] == \"Mexico\"), [\"entity\", \"year\", \"net_forest_conversion\"]]\n",
    "\n",
    "south_america_dataframe"
   ]
  }
 ],
 "metadata": {
  "language_info": {
   "name": "python"
  },
  "orig_nbformat": 4
 },
 "nbformat": 4,
 "nbformat_minor": 2
}
