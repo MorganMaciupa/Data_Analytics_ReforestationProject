{
 "cells": [
  {
   "cell_type": "code",
   "execution_count": 2,
   "metadata": {},
   "outputs": [],
   "source": [
    "import pandas as pd\n",
    "import scipy.stats as sts\n",
    "import matplotlib.pyplot as plt"
   ]
  },
  {
   "cell_type": "code",
   "execution_count": 3,
   "metadata": {},
   "outputs": [],
   "source": [
    "forest_dataframe = pd.read_csv('https://raw.githubusercontent.com/rfordatascience/tidytuesday/master/data/2021/2021-04-06/forest.csv')"
   ]
  },
  {
   "cell_type": "code",
   "execution_count": 46,
   "metadata": {},
   "outputs": [
    {
     "data": {
      "text/html": [
       "<div>\n",
       "<style scoped>\n",
       "    .dataframe tbody tr th:only-of-type {\n",
       "        vertical-align: middle;\n",
       "    }\n",
       "\n",
       "    .dataframe tbody tr th {\n",
       "        vertical-align: top;\n",
       "    }\n",
       "\n",
       "    .dataframe thead th {\n",
       "        text-align: right;\n",
       "    }\n",
       "</style>\n",
       "<table border=\"1\" class=\"dataframe\">\n",
       "  <thead>\n",
       "    <tr style=\"text-align: right;\">\n",
       "      <th></th>\n",
       "      <th>entity</th>\n",
       "      <th>code</th>\n",
       "      <th>year</th>\n",
       "      <th>net_forest_conversion</th>\n",
       "    </tr>\n",
       "  </thead>\n",
       "  <tbody>\n",
       "    <tr>\n",
       "      <th>0</th>\n",
       "      <td>Algeria</td>\n",
       "      <td>DZA</td>\n",
       "      <td>1990</td>\n",
       "      <td>-8800.0</td>\n",
       "    </tr>\n",
       "    <tr>\n",
       "      <th>1</th>\n",
       "      <td>Algeria</td>\n",
       "      <td>DZA</td>\n",
       "      <td>2000</td>\n",
       "      <td>33900.0</td>\n",
       "    </tr>\n",
       "    <tr>\n",
       "      <th>2</th>\n",
       "      <td>Algeria</td>\n",
       "      <td>DZA</td>\n",
       "      <td>2010</td>\n",
       "      <td>7600.0</td>\n",
       "    </tr>\n",
       "    <tr>\n",
       "      <th>3</th>\n",
       "      <td>Algeria</td>\n",
       "      <td>DZA</td>\n",
       "      <td>2015</td>\n",
       "      <td>-1400.0</td>\n",
       "    </tr>\n",
       "    <tr>\n",
       "      <th>4</th>\n",
       "      <td>Argentina</td>\n",
       "      <td>ARG</td>\n",
       "      <td>1990</td>\n",
       "      <td>-182600.0</td>\n",
       "    </tr>\n",
       "    <tr>\n",
       "      <th>...</th>\n",
       "      <td>...</td>\n",
       "      <td>...</td>\n",
       "      <td>...</td>\n",
       "      <td>...</td>\n",
       "    </tr>\n",
       "    <tr>\n",
       "      <th>470</th>\n",
       "      <td>Zambia</td>\n",
       "      <td>ZMB</td>\n",
       "      <td>2015</td>\n",
       "      <td>-188210.0</td>\n",
       "    </tr>\n",
       "    <tr>\n",
       "      <th>471</th>\n",
       "      <td>Zimbabwe</td>\n",
       "      <td>ZWE</td>\n",
       "      <td>1990</td>\n",
       "      <td>-46070.0</td>\n",
       "    </tr>\n",
       "    <tr>\n",
       "      <th>472</th>\n",
       "      <td>Zimbabwe</td>\n",
       "      <td>ZWE</td>\n",
       "      <td>2000</td>\n",
       "      <td>-46070.0</td>\n",
       "    </tr>\n",
       "    <tr>\n",
       "      <th>473</th>\n",
       "      <td>Zimbabwe</td>\n",
       "      <td>ZWE</td>\n",
       "      <td>2010</td>\n",
       "      <td>-46070.0</td>\n",
       "    </tr>\n",
       "    <tr>\n",
       "      <th>474</th>\n",
       "      <td>Zimbabwe</td>\n",
       "      <td>ZWE</td>\n",
       "      <td>2015</td>\n",
       "      <td>-46070.0</td>\n",
       "    </tr>\n",
       "  </tbody>\n",
       "</table>\n",
       "<p>475 rows × 4 columns</p>\n",
       "</div>"
      ],
      "text/plain": [
       "        entity code  year  net_forest_conversion\n",
       "0      Algeria  DZA  1990                -8800.0\n",
       "1      Algeria  DZA  2000                33900.0\n",
       "2      Algeria  DZA  2010                 7600.0\n",
       "3      Algeria  DZA  2015                -1400.0\n",
       "4    Argentina  ARG  1990              -182600.0\n",
       "..         ...  ...   ...                    ...\n",
       "470     Zambia  ZMB  2015              -188210.0\n",
       "471   Zimbabwe  ZWE  1990               -46070.0\n",
       "472   Zimbabwe  ZWE  2000               -46070.0\n",
       "473   Zimbabwe  ZWE  2010               -46070.0\n",
       "474   Zimbabwe  ZWE  2015               -46070.0\n",
       "\n",
       "[475 rows x 4 columns]"
      ]
     },
     "execution_count": 46,
     "metadata": {},
     "output_type": "execute_result"
    }
   ],
   "source": [
    "forest_dataframe\n"
   ]
  },
  {
   "cell_type": "code",
   "execution_count": 58,
   "metadata": {},
   "outputs": [
    {
     "data": {
      "image/png": "[encoded data removed]",
      "text/plain": [
       "<Figure size 432x288 with 1 Axes>"
      ]
     },
     "metadata": {
      "needs_background": "light"
     },
     "output_type": "display_data"
    }
   ],
   "source": [
    "argentina = forest_dataframe[forest_dataframe[\"entity\"] == \"Argentina\"]\n",
    "brazil = forest_dataframe[forest_dataframe[\"entity\"] == \"Brazil\"]\n",
    "colombia = forest_dataframe[forest_dataframe[\"entity\"] == \"Colombia\"]\n",
    "ecuador = forest_dataframe[forest_dataframe[\"entity\"] == \"Ecuador\"]\n",
    "mexico = forest_dataframe[forest_dataframe[\"entity\"] == \"Mexico\"]\n",
    "peru = forest_dataframe[forest_dataframe[\"entity\"] == \"Peru\"]\n",
    "venezuela = forest_dataframe[forest_dataframe[\"entity\"] == \"Venezuela\"]\n",
    "\n",
    "plt.plot(argentina[\"year\"], argentina[\"net_forest_conversion\"], marker = \"o\")\n",
    "plt.plot(brazil[\"year\"], brazil[\"net_forest_conversion\"], marker = \"o\")\n",
    "plt.plot(colombia[\"year\"], colombia[\"net_forest_conversion\"], marker = \"o\")\n",
    "plt.plot(ecuador[\"year\"], ecuador[\"net_forest_conversion\"], marker = \"o\")\n",
    "plt.plot(mexico[\"year\"], mexico[\"net_forest_conversion\"], marker = \"o\")\n",
    "plt.plot(peru[\"year\"], peru[\"net_forest_conversion\"], marker = \"o\")\n",
    "plt.plot(venezuela[\"year\"], venezuela[\"net_forest_conversion\"], marker = \"o\")\n",
    "\n",
    "plt.yscale('symlog')\n",
    "labels = [\"Argentina\", \"Brazil\", \"Colombia\", \"Ecuador\", \"Mexico\", \"Peru\", \"Venezuela\"]\n",
    "plt.legend(labels, loc = \"best\");\n"
   ]
  }
 ],
 "metadata": {
  "interpreter": {
   "hash": "0fc77d8a50000c97155eb19da695bbd52ccd99e33e42812d50076a62ba4b9003"
  },
  "kernelspec": {
   "display_name": "Python 3.6.10 ('PythonData')",
   "language": "python",
   "name": "python3"
  },
  "language_info": {
   "codemirror_mode": {
    "name": "ipython",
    "version": 3
   },
   "file_extension": ".py",
   "mimetype": "text/x-python",
   "name": "python",
   "nbconvert_exporter": "python",
   "pygments_lexer": "ipython3",
   "version": "3.6.10"
  },
  "orig_nbformat": 4
 },
 "nbformat": 4,
 "nbformat_minor": 2
}
