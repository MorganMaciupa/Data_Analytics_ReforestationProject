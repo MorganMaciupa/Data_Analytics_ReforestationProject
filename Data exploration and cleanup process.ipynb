{
 "cells": [
  {
   "cell_type": "markdown",
   "metadata": {},
   "source": [
    "Our data exploration process included us gathering global deforestation data and then filtered down to South American countries for our focus. We found that the Our World in Data website had graphs on their websites and we were able to access the datasets used to produce those graphs. We found that the dataset on deforestation rates were limited and small: which could have been due to trees growing slowly over time, hence only a simple and small dataset was made available over the course of the decades. We initially wanted to explore the link between reforestation and biodiversity in the area, however we were not able to find sufficient data on the link. So we decided to focus on solely the deforestation and reforestation rates in South American. In terms of our cleanup process, some of the datasets that we used for the use of different types of land, we needed to rename columns to be able to group them as they were using different names for similar data. \n",
    "\n"
   ]
  }
 ],
 "metadata": {
  "language_info": {
   "name": "python"
  },
  "orig_nbformat": 4
 },
 "nbformat": 4,
 "nbformat_minor": 2
}
